{
 "cells": [
  {
   "cell_type": "markdown",
   "id": "57c7674e-45e0-4b64-ab17-78755038c616",
   "metadata": {},
   "source": [
    "# Data Science Tools and Ecosystem"
   ]
  },
  {
   "cell_type": "markdown",
   "id": "38d27a63-1079-4552-ab43-a6b75418459c",
   "metadata": {},
   "source": [
    "In this notebook, Data Science Tools and Ecosystem are summarized."
   ]
  },
  {
   "cell_type": "markdown",
   "id": "0160fa9c-d9a6-451f-922c-69fa62f414c2",
   "metadata": {
    "tags": []
   },
   "source": [
    "**Objectives:**\n",
    "- Data Science Tools and Ecosystem\n",
    "- Popular languages that Data Scientists\n",
    "- Libraries used by Data Scientists"
   ]
  },
  {
   "cell_type": "markdown",
   "id": "b5d942bc-5b05-407b-87b0-cc4f3f66ac10",
   "metadata": {},
   "source": [
    "Some of the commonly used libraries used by Data Scientists include:\n",
    "1. NumPy\n",
    "2. Keras\n",
    "3. Panda"
   ]
  },
  {
   "cell_type": "markdown",
   "id": "d494eb0e-1dd3-40f8-af05-96cf07569d43",
   "metadata": {},
   "source": [
    "Some of the popular languages that Data Scientists use are: \n",
    "1. Python \n",
    "2. R \n",
    "3. SQL"
   ]
  },
  {
   "cell_type": "markdown",
   "id": "d49adbc5-7b49-4a3d-9255-5e49e5022ead",
   "metadata": {},
   "source": [
    "| Data Science Tools| \n",
    "| -------------|\n",
    "| RStudio |\n",
    "| Spark |\n",
    "| Apache |"
   ]
  },
  {
   "cell_type": "markdown",
   "id": "206be1cc-555e-4f7d-95c6-5a55cef19305",
   "metadata": {},
   "source": [
    "### Below are a few examples of evaluating arithmetic expressions in Python"
   ]
  },
  {
   "cell_type": "code",
   "execution_count": 8,
   "id": "f3df3531-6b73-4705-a460-497d21458484",
   "metadata": {},
   "outputs": [
    {
     "data": {
      "text/plain": [
       "17"
      ]
     },
     "execution_count": 8,
     "metadata": {},
     "output_type": "execute_result"
    }
   ],
   "source": [
    "(3*4)+5\n",
    "#This a simple arithmetic expression to mutiply then add integers"
   ]
  },
  {
   "cell_type": "code",
   "execution_count": 9,
   "id": "e91c6328-f3c6-4e0f-9b08-ea426bd7e64d",
   "metadata": {
    "tags": []
   },
   "outputs": [
    {
     "data": {
      "text/plain": [
       "36.333333333333336"
      ]
     },
     "execution_count": 9,
     "metadata": {},
     "output_type": "execute_result"
    }
   ],
   "source": [
    "200//60 + (200%60)/0.6\n",
    "#This willconvert 200 minutes to hours by diving by 60"
   ]
  },
  {
   "cell_type": "markdown",
   "id": "60274cd6-dc5d-4389-80bc-752d50edbfaf",
   "metadata": {},
   "source": [
    "## Author \n",
    "Siria Catherine Iñiguez Brito"
   ]
  },
  {
   "cell_type": "code",
   "execution_count": null,
   "id": "d580744b-bbe6-453e-96fe-8f4fcc30c7ba",
   "metadata": {},
   "outputs": [],
   "source": []
  }
 ],
 "metadata": {
  "kernelspec": {
   "display_name": "Python 3",
   "language": "python",
   "name": "python3"
  },
  "language_info": {
   "codemirror_mode": {
    "name": "ipython",
    "version": 3
   },
   "file_extension": ".py",
   "mimetype": "text/x-python",
   "name": "python",
   "nbconvert_exporter": "python",
   "pygments_lexer": "ipython3",
   "version": "3.8.8"
  }
 },
 "nbformat": 4,
 "nbformat_minor": 5
}
